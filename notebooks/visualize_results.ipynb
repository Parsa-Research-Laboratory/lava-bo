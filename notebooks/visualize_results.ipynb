{
 "cells": [
  {
   "cell_type": "code",
   "execution_count": 1,
   "metadata": {},
   "outputs": [],
   "source": [
    "from glob import glob\n",
    "import matplotlib.pyplot as plt\n",
    "import numpy as np\n",
    "import os\n",
    "import pickle as pkl\n",
    "import re"
   ]
  },
  {
   "cell_type": "code",
   "execution_count": 2,
   "metadata": {},
   "outputs": [],
   "source": [
    "plt.rcParams.update({\n",
    "    \"text.usetex\": True,\n",
    "})"
   ]
  },
  {
   "cell_type": "markdown",
   "metadata": {},
   "source": [
    "### Load Results without Delay"
   ]
  },
  {
   "cell_type": "code",
   "execution_count": 3,
   "metadata": {},
   "outputs": [],
   "source": [
    "data_dir: str = \"/home/shaymeister/dev/lmao/tmp/\"\n",
    "file_prefix = \"ackley_run\"\n",
    "file_suffix = \".pkl\"\n",
    "\n",
    "num_res: int = 10"
   ]
  },
  {
   "cell_type": "code",
   "execution_count": 4,
   "metadata": {},
   "outputs": [],
   "source": [
    "results = []\n",
    "\n",
    "for i in range(num_res):\n",
    "    with open(f\"{data_dir}/{file_prefix}{i+1}{file_suffix}\", \"rb\") as f:\n",
    "        results.append(pkl.load(f))"
   ]
  },
  {
   "cell_type": "code",
   "execution_count": 5,
   "metadata": {},
   "outputs": [
    {
     "data": {
      "text/plain": [
       "dict_keys(['time_log', 'results_log'])"
      ]
     },
     "execution_count": 5,
     "metadata": {},
     "output_type": "execute_result"
    }
   ],
   "source": [
    "results[0].keys()"
   ]
  },
  {
   "cell_type": "code",
   "execution_count": 6,
   "metadata": {},
   "outputs": [],
   "source": [
    "run_times = np.zeros(num_res)\n",
    "\n",
    "for i in range(num_res):\n",
    "    run_times[i] = np.mean(results[i][\"time_log\"])"
   ]
  },
  {
   "cell_type": "markdown",
   "metadata": {},
   "source": [
    "### Load Results with Delay = 0.5"
   ]
  },
  {
   "cell_type": "code",
   "execution_count": 7,
   "metadata": {},
   "outputs": [],
   "source": [
    "data_dir: str = \"/home/shaymeister/dev/lmao/tmp-d05/\"\n",
    "file_prefix = \"ackley_run\"\n",
    "file_suffix = \".pkl\"\n",
    "\n",
    "num_res: int = 10\n",
    "\n",
    "results05 = []\n",
    "\n",
    "for i in range(num_res):\n",
    "    with open(f\"{data_dir}/{file_prefix}{i+1}{file_suffix}\", \"rb\") as f:\n",
    "        results05.append(pkl.load(f))\n",
    "\n",
    "run_times05 = np.zeros(num_res)\n",
    "\n",
    "for i in range(num_res):\n",
    "    run_times05[i] = np.mean(results05[i][\"time_log\"])"
   ]
  },
  {
   "cell_type": "markdown",
   "metadata": {},
   "source": [
    "### Load Results with Delay = 1.0"
   ]
  },
  {
   "cell_type": "code",
   "execution_count": 8,
   "metadata": {},
   "outputs": [],
   "source": [
    "data_dir: str = \"/home/shaymeister/dev/lmao/tmp-d1\"\n",
    "file_prefix = \"ackley_run\"\n",
    "file_suffix = \".pkl\"\n",
    "\n",
    "num_res: int = 10\n",
    "\n",
    "results1 = []\n",
    "\n",
    "for i in range(num_res):\n",
    "    with open(f\"{data_dir}/{file_prefix}{i+1}{file_suffix}\", \"rb\") as f:\n",
    "        results1.append(pkl.load(f))\n",
    "\n",
    "run_times1 = np.zeros(num_res)\n",
    "\n",
    "for i in range(num_res):\n",
    "    run_times1[i] = np.mean(results1[i][\"time_log\"])"
   ]
  },
  {
   "cell_type": "markdown",
   "metadata": {},
   "source": [
    "#### Load results with Delay = 3.0"
   ]
  },
  {
   "cell_type": "code",
   "execution_count": 9,
   "metadata": {},
   "outputs": [],
   "source": [
    "data_dir: str = \"/home/shaymeister/dev/lmao/tmp-d3\"\n",
    "file_prefix = \"ackley_run\"\n",
    "file_suffix = \".pkl\"\n",
    "\n",
    "num_res: int = 10\n",
    "\n",
    "results3 = []\n",
    "\n",
    "for i in range(num_res):\n",
    "    with open(f\"{data_dir}/{file_prefix}{i+1}{file_suffix}\", \"rb\") as f:\n",
    "        results3.append(pkl.load(f))\n",
    "\n",
    "run_times3 = np.zeros(num_res)\n",
    "\n",
    "for i in range(num_res):\n",
    "    run_times3[i] = np.mean(results3[i][\"time_log\"])"
   ]
  },
  {
   "cell_type": "markdown",
   "metadata": {},
   "source": [
    "### Load results with Delay = 5.0"
   ]
  },
  {
   "cell_type": "code",
   "execution_count": 10,
   "metadata": {},
   "outputs": [],
   "source": [
    "data_dir: str = \"/home/shaymeister/dev/lmao/tmp-d5\"\n",
    "file_prefix = \"ackley_run\"\n",
    "file_suffix = \".pkl\"\n",
    "\n",
    "num_res: int = 10\n",
    "\n",
    "results5 = []\n",
    "\n",
    "for i in range(num_res):\n",
    "    with open(f\"{data_dir}/{file_prefix}{i+1}{file_suffix}\", \"rb\") as f:\n",
    "        results5.append(pkl.load(f))\n",
    "\n",
    "run_times5 = np.zeros(num_res)\n",
    "\n",
    "for i in range(num_res):\n",
    "    run_times5[i] = np.mean(results5[i][\"time_log\"])"
   ]
  },
  {
   "cell_type": "markdown",
   "metadata": {},
   "source": [
    "#### Load the results with Delay = 10.0"
   ]
  },
  {
   "cell_type": "code",
   "execution_count": 11,
   "metadata": {},
   "outputs": [],
   "source": [
    "data_dir: str = \"/home/shaymeister/dev/lmao/tmp-d10\"\n",
    "file_prefix = \"ackley_run\"\n",
    "file_suffix = \".pkl\"\n",
    "\n",
    "num_res: int = 10\n",
    "\n",
    "results10 = []\n",
    "\n",
    "for i in range(num_res):\n",
    "    with open(f\"{data_dir}/{file_prefix}{i+1}{file_suffix}\", \"rb\") as f:\n",
    "        results10.append(pkl.load(f))\n",
    "\n",
    "run_times10 = np.zeros(num_res)\n",
    "\n",
    "for i in range(num_res):\n",
    "    run_times10[i] = np.mean(results10[i][\"time_log\"])"
   ]
  },
  {
   "cell_type": "code",
   "execution_count": 16,
   "metadata": {},
   "outputs": [
    {
     "data": {
      "image/png": "[encoded data removed]",
      "text/plain": [
       "<Figure size 640x480 with 1 Axes>"
      ]
     },
     "metadata": {},
     "output_type": "display_data"
    }
   ],
   "source": [
    "plt.plot(np.arange(1, num_res+1, 1), run_times10, \"--o\", label=\"Delay = 10s\", c=\"crimson\", alpha=0.5)\n",
    "plt.plot(np.arange(1, num_res+1, 1), run_times5, \"--o\", label=\"Delay = 5s\", c=\"darkorange\", alpha=0.5)\n",
    "plt.plot(np.arange(1, num_res+1, 1), run_times3, \"--o\", label=\"Delay = 3s\", c=\"dodgerblue\", alpha=0.5)\n",
    "plt.plot(np.arange(1, num_res+1, 1), run_times1, \"--o\", label=\"Delay = 1s\", c=\"lightseagreen\", alpha=0.5)\n",
    "plt.plot(np.arange(1, num_res+1, 1), run_times, \"-o\", label=\"No Delay\", c=\"forestgreen\", alpha=0.5)\n",
    "# plt.plot(np.arange(1, num_res+1, 1), run_times05, \"-o\", label=\"Delay = 0.5\", c=\"#FF0000\", alpha=0.5)\n",
    "\n",
    "plt.ylabel(\"Run Time (s)\")\n",
    "plt.xlabel(\"Number of Processes\")\n",
    "plt.title(r\"\\textbf{Run Time vs Number of Processes}\")\n",
    "plt.ylim(35, 600)\n",
    "plt.xlim(0, 11)\n",
    "# plt.xticks([1, 4, 8, 12, 16, 20])\n",
    "plt.legend()\n",
    "plt.savefig(\"run_time_vs_procs.png\", dpi=500)"
   ]
  },
  {
   "cell_type": "markdown",
   "metadata": {},
   "source": []
  },
  {
   "cell_type": "code",
   "execution_count": null,
   "metadata": {},
   "outputs": [],
   "source": []
  }
 ],
 "metadata": {
  "kernelspec": {
   "display_name": "lmao",
   "language": "python",
   "name": "python3"
  },
  "language_info": {
   "codemirror_mode": {
    "name": "ipython",
    "version": 3
   },
   "file_extension": ".py",
   "mimetype": "text/x-python",
   "name": "python",
   "nbconvert_exporter": "python",
   "pygments_lexer": "ipython3",
   "version": "3.9.19"
  }
 },
 "nbformat": 4,
 "nbformat_minor": 2
}
