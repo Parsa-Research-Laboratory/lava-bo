{
 "cells": [
  {
   "cell_type": "markdown",
   "metadata": {},
   "source": [
    "*Copyright (C) 2023 Intel Corporation*<br>\n",
    "*SPDX-License-Identifier: BSD-3-Clause*<br>\n",
    "*See: https://spdx.org/licenses/*\n",
    "\n",
    "---"
   ]
  },
  {
   "cell_type": "markdown",
   "metadata": {},
   "source": [
    "# Satellite Scheduler Tech Demo\n",
    "This notebook demonstrates the usage of a Lava-Optimization QUBO solver to schedule requests for a constellation of Earth Observation satellites.\n",
    "The notebook uses the SatelliteSchedulingProblem API to generate synthetic problem instances, convert the problems into QUBO matrices, and then run\n",
    "the Lava solver to find a satisfactory schedule.\n",
    "\n",
    "### Scenario Description\n",
    "Earth Observation satellites orbit the Earth on fixed trajectories with each orbital pass taking between 30 minutes and a few hours. During an orbit,\n",
    "the satellite can reorient itself to observe different positions on the Earth's surface with its sensors. The ability to reorient is limited by\n",
    "the satellite's actuators to a maximum rotational rate. For a given satellite to satisfy two sequential observation requests, there must be adequate\n",
    "time between the requests for the satellite to reorient without exceeding its maximum rotational rate. For simple orbits, the time between requests\n",
    "is essentially determined by the difference in longitude coordinates of the two requests, divided by the longitudinal velocity of the satellite."
   ]
  },
  {
   "cell_type": "markdown",
   "metadata": {},
   "source": [
    "<center><img src=\"SatSchDemoSchematic.png\" width=\"500\"/></center>"
   ]
  },
  {
   "cell_type": "markdown",
   "metadata": {},
   "source": [
    "### Solution Strategy\n",
    "The physical constraints of the satellite scheduling problem can be mapped into QUBO by creating a graph corresponding to the vehicles and requests\n",
    "that are currently being scheduled. Any two requests which cannot be observed by the same vehicle will be connected in the graph by an edge,\n",
    "indicating a hard constraint between those requests. Using a QUBO solver, we can then find a Maximal Independent Set of the graph, corresponding\n",
    "to a locally-optimal schedule. This method of scheduling requests for a constellation of satellites can scale up to create schedules for larger\n",
    "constellations receiving more requests than a conventional scheduling algorithm."
   ]
  },
  {
   "cell_type": "code",
   "execution_count": null,
   "metadata": {
    "tags": []
   },
   "outputs": [],
   "source": [
    "import os\n",
    "import numpy as np\n",
    "from matplotlib import pyplot as plt\n",
    "from lava.lib.optimization.apps.scheduler.problems import SatelliteScheduleProblem\n",
    "from lava.lib.optimization.apps.scheduler.solver import SatelliteScheduler"
   ]
  },
  {
   "cell_type": "markdown",
   "metadata": {},
   "source": [
    "#### Create a SchedulingProblem object"
   ]
  },
  {
   "cell_type": "code",
   "execution_count": null,
   "metadata": {
    "tags": []
   },
   "outputs": [],
   "source": [
    "scheduling_problem = SatelliteScheduleProblem(num_satellites=9,\n",
    "                                              num_requests=250)\n",
    "scheduling_problem.view_height = 0.50\n",
    "scheduling_problem.turn_rate = 5.0\n",
    "scheduling_problem.generate(0)\n",
    "scheduling_problem.plot_problem()"
   ]
  },
  {
   "cell_type": "markdown",
   "metadata": {},
   "source": [
    "#### Create a Scheduler object\n",
    "Scheduler consumes a SchedulingProblem along with QUBO specific parameters"
   ]
  },
  {
   "cell_type": "code",
   "execution_count": null,
   "metadata": {},
   "outputs": [],
   "source": [
    "scheduler = SatelliteScheduler(scheduling_problem,\n",
    "                               qubo_weights=(1, 8),\n",
    "                               probe_loihi_exec_time=False)"
   ]
  },
  {
   "cell_type": "markdown",
   "metadata": {},
   "source": [
    "##### Solve using NetworkX module"
   ]
  },
  {
   "cell_type": "code",
   "execution_count": null,
   "metadata": {
    "tags": []
   },
   "outputs": [],
   "source": [
    "scheduler.solve_with_netx()\n",
    "print(f'Scheduled {scheduler.netx_solution.shape[0]} Requests.')"
   ]
  },
  {
   "cell_type": "markdown",
   "metadata": {},
   "source": [
    "##### Solve using Lava QUBO Solver on Loihi 2"
   ]
  },
  {
   "cell_type": "code",
   "execution_count": null,
   "metadata": {},
   "outputs": [],
   "source": [
    "# os.environ[\"LOIHI_GEN\"]=\"N3B3\"\n",
    "# os.environ[\"PARTITION\"]=\"kp_dev\"\n",
    "# os.environ[\"SLURM\"]=\"1\""
   ]
  },
  {
   "cell_type": "code",
   "execution_count": null,
   "metadata": {},
   "outputs": [],
   "source": [
    "scheduler.qubo_hyperparams = ({\"temperature\": 1},\n",
    "                              True)\n",
    "scheduler.lava_backend = \"CPU\"\n",
    "scheduler.solve_with_lava_qubo(timeout=1000)"
   ]
  },
  {
   "cell_type": "code",
   "execution_count": null,
   "metadata": {},
   "outputs": [],
   "source": [
    "scheduler.plot_solutions()"
   ]
  },
  {
   "cell_type": "code",
   "execution_count": null,
   "metadata": {},
   "outputs": [],
   "source": [
    "scheduler.lava_solution.shape[0]"
   ]
  },
  {
   "cell_type": "code",
   "execution_count": null,
   "metadata": {},
   "outputs": [],
   "source": [
    "GSS = {\n",
    "    \"view_height\": [0.1, 0.2, 0.3],\n",
    "    \"turn_rate\": [1.0, 3.0, 5.0, 7.0],\n",
    "    \"num_satellites\": [2, 5, 7, 9],\n",
    "    \"qubo_weights\": [[1, 4], [1, 8], [2, 8], [2, 16], [4, 16]]\n",
    "}\n",
    "\n",
    "def run_ssp(arg1: int, arg2: int, arg3: int, arg4: int, arg5: int, num_repeats: int = 5, num_requests: int = 1000, plotting: bool = False) -> float:\n",
    "\n",
    "    # view_height = GSS[\"view_height\"][int(arg1)]\n",
    "    # turn_rate = GSS[\"turn_rate\"][int(arg2)]\n",
    "    view_height = float(arg1)\n",
    "    turn_rate = float(arg2)\n",
    "    num_satellites = int(arg3)\n",
    "    qubo_weight_0 = float(arg4)\n",
    "    qubo_weight_1 = qubo_weight_0 * float(arg5)\n",
    "\n",
    "    request_logs = []\n",
    "    for repeat_idx in range(num_repeats):\n",
    "        scheduling_problem = SatelliteScheduleProblem(\n",
    "            num_satellites=num_satellites,\n",
    "            num_requests=num_requests\n",
    "        )\n",
    "        scheduling_problem.view_height = view_height\n",
    "        scheduling_problem.turn_rate = turn_rate\n",
    "        scheduling_problem.generate(repeat_idx)\n",
    "\n",
    "        if plotting:\n",
    "            secheduling_problem.plot_problem()\n",
    "\n",
    "        scheduler = SatelliteScheduler(\n",
    "            scheduling_problem,\n",
    "            qubo_weights=(qubo_weight_0, qubo_weight_1),\n",
    "            # probe_loihi_exec_time=True\n",
    "        )\n",
    "\n",
    "        scheduler.qubo_hyperparams = ({\"temperature\": 1}, True)\n",
    "        scheduler.lava_backend = \"CPU\"\n",
    "        scheduler.solve_with_lava_qubo(timeout=1000)\n",
    "\n",
    "        num_satisfies = scheduler.lava_solution.shape[0]\n",
    "        request_logs.append(num_satisfies)\n",
    "\n",
    "\n",
    "    avg_requests = np.mean(request_logs)\n",
    "    avg_requests = -1 * avg_requests\n",
    "    return avg_requests\n",
    "        "
   ]
  },
  {
   "cell_type": "code",
   "execution_count": null,
   "metadata": {},
   "outputs": [],
   "source": [
    "results = run_ssp(1, 1, 2, 1, 2.1)"
   ]
  },
  {
   "cell_type": "code",
   "execution_count": null,
   "metadata": {},
   "outputs": [],
   "source": [
    "results"
   ]
  },
  {
   "cell_type": "code",
   "execution_count": null,
   "metadata": {},
   "outputs": [],
   "source": [
    "# -------------\n",
    "# Grid Search\n",
    "# -------------\n"
   ]
  },
  {
   "cell_type": "code",
   "execution_count": null,
   "metadata": {},
   "outputs": [],
   "source": [
    "# ------\n",
    "# BO\n",
    "# ------\n",
    "from skopt import Space\n",
    "from skopt.space import Real, Integer\n",
    "import time\n",
    "\n",
    "search_space_int = Space([\n",
    "    Real(0.001, 10,  name=\"view_height\"),\n",
    "    Real(0.001, 10, name=\"turn rate\"),\n",
    "    Integer(2, 6,   name=\"number of satellites\"),\n",
    "    Real(1, 10,     name=\"qubo_weight_0\"),\n",
    "    Real(2.1, 10,   name=\"qubo_weight_1_scaler\")\n",
    "])\n",
    "\n",
    "num_initial_points = 50\n",
    "num_iterations = 150\n",
    "optimizer_class = \"gp-cpu\"\n",
    "\n",
    "from omegaconf import DictConfig\n",
    "from lmao.solver import BOSolver\n",
    "\n",
    "optimizer_config = DictConfig({\n",
    "    \"num_initial_points\": num_initial_points,\n",
    "    \"max_iterations\": num_iterations,\n",
    "    \"num_processes\": 1,\n",
    "    \"num_repeats\": 1,\n",
    "    \"optimizer_class\": optimizer_class,\n",
    "    \"optimizer\": {\n",
    "        \"num_initial_points\": num_initial_points,\n",
    "    },\n",
    "    \"seed\": 10,\n",
    "})\n",
    "\n",
    "solver = BOSolver(optimizer_config)\n",
    "\n",
    "start_time = time.time()\n",
    "result = solver.solve(\n",
    "    run_ssp,\n",
    "    use_lp=False,\n",
    "    search_space=search_space_int,\n",
    ")\n",
    "total_time = time.time() - start_time\n",
    "print(f\"Total Time: {total_time}\")"
   ]
  },
  {
   "cell_type": "code",
   "execution_count": null,
   "metadata": {},
   "outputs": [],
   "source": [
    "result"
   ]
  },
  {
   "cell_type": "code",
   "execution_count": null,
   "metadata": {},
   "outputs": [],
   "source": [
    "plt.plot(result[\"y_log\"])"
   ]
  },
  {
   "cell_type": "code",
   "execution_count": null,
   "metadata": {},
   "outputs": [],
   "source": []
  }
 ],
 "metadata": {
  "kernelspec": {
   "display_name": "Python 3 (ipykernel)",
   "language": "python",
   "name": "python3"
  },
  "language_info": {
   "codemirror_mode": {
    "name": "ipython",
    "version": 3
   },
   "file_extension": ".py",
   "mimetype": "text/x-python",
   "name": "python",
   "nbconvert_exporter": "python",
   "pygments_lexer": "ipython3",
   "version": "3.9.19"
  }
 },
 "nbformat": 4,
 "nbformat_minor": 4
}
